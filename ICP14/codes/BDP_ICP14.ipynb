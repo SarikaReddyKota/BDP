{
 "cells": [
  {
   "cell_type": "code",
   "execution_count": 1,
   "metadata": {},
   "outputs": [
    {
     "name": "stdout",
     "output_type": "stream",
     "text": [
      "Requirement already satisfied: pyspark in c:\\programdata\\anaconda3\\lib\\site-packages (2.4.5)\n",
      "Requirement already satisfied: py4j==0.10.7 in c:\\programdata\\anaconda3\\lib\\site-packages (from pyspark) (0.10.7)\n",
      "Note: you may need to restart the kernel to use updated packages.\n"
     ]
    }
   ],
   "source": [
    "pip install pyspark"
   ]
  },
  {
   "cell_type": "code",
   "execution_count": 2,
   "metadata": {},
   "outputs": [
    {
     "name": "stdout",
     "output_type": "stream",
     "text": [
      "Requirement already satisfied: findspark in c:\\programdata\\anaconda3\\lib\\site-packages (1.3.0)\n",
      "Note: you may need to restart the kernel to use updated packages.\n"
     ]
    }
   ],
   "source": [
    "pip install findspark"
   ]
  },
  {
   "cell_type": "code",
   "execution_count": 3,
   "metadata": {},
   "outputs": [],
   "source": [
    "import findspark\n",
    "findspark.init()"
   ]
  },
  {
   "cell_type": "code",
   "execution_count": 4,
   "metadata": {},
   "outputs": [],
   "source": [
    "from pyspark.sql import SparkSession\n",
    "from pyspark.sql import *\n",
    "from pyspark.sql.types import DoubleType,IntegerType\n",
    "import pyspark.sql.functions as F\n",
    "\n",
    "spark = SparkSession \\\n",
    "    .builder \\\n",
    "    .appName(\"S ICP14\") \\\n",
    "    .getOrCreate()"
   ]
  },
  {
   "cell_type": "code",
   "execution_count": 8,
   "metadata": {},
   "outputs": [],
   "source": [
    "from pyspark.ml.linalg import SparseVector\n",
    "from pyspark.ml.feature import VectorAssembler\n",
    "from pyspark.ml.classification import NaiveBayes\n",
    "from pyspark.ml.evaluation import MulticlassClassificationEvaluator"
   ]
  },
  {
   "cell_type": "code",
   "execution_count": 9,
   "metadata": {},
   "outputs": [
    {
     "name": "stdout",
     "output_type": "stream",
     "text": [
      "+---+-----------------+------+-------------+-------------+--------------------+------------------+--------------+-------------------+-------+------------+------------+--------------+--------------+------+\n",
      "|age|        workclass|fnlwgt|    education|education-num|      marital-status|        occupation|  relationship|               race|    sex|capital-gain|capital-loss|hours-per-week|native-country|     X|\n",
      "+---+-----------------+------+-------------+-------------+--------------------+------------------+--------------+-------------------+-------+------------+------------+--------------+--------------+------+\n",
      "| 39|        State-gov| 77516|    Bachelors|           13|       Never-married|      Adm-clerical| Not-in-family|              White|   Male|        2174|           0|            40| United-States| <=50K|\n",
      "| 50| Self-emp-not-inc| 83311|    Bachelors|           13|  Married-civ-spouse|   Exec-managerial|       Husband|              White|   Male|           0|           0|            13| United-States| <=50K|\n",
      "| 38|          Private|215646|      HS-grad|            9|            Divorced| Handlers-cleaners| Not-in-family|              White|   Male|           0|           0|            40| United-States| <=50K|\n",
      "| 53|          Private|234721|         11th|            7|  Married-civ-spouse| Handlers-cleaners|       Husband|              Black|   Male|           0|           0|            40| United-States| <=50K|\n",
      "| 28|          Private|338409|    Bachelors|           13|  Married-civ-spouse|    Prof-specialty|          Wife|              Black| Female|           0|           0|            40|          Cuba| <=50K|\n",
      "| 37|          Private|284582|      Masters|           14|  Married-civ-spouse|   Exec-managerial|          Wife|              White| Female|           0|           0|            40| United-States| <=50K|\n",
      "| 49|          Private|160187|          9th|            5| Married-spouse-a...|     Other-service| Not-in-family|              Black| Female|           0|           0|            16|       Jamaica| <=50K|\n",
      "| 52| Self-emp-not-inc|209642|      HS-grad|            9|  Married-civ-spouse|   Exec-managerial|       Husband|              White|   Male|           0|           0|            45| United-States|  >50K|\n",
      "| 31|          Private| 45781|      Masters|           14|       Never-married|    Prof-specialty| Not-in-family|              White| Female|       14084|           0|            50| United-States|  >50K|\n",
      "| 42|          Private|159449|    Bachelors|           13|  Married-civ-spouse|   Exec-managerial|       Husband|              White|   Male|        5178|           0|            40| United-States|  >50K|\n",
      "| 37|          Private|280464| Some-college|           10|  Married-civ-spouse|   Exec-managerial|       Husband|              Black|   Male|           0|           0|            80| United-States|  >50K|\n",
      "| 30|        State-gov|141297|    Bachelors|           13|  Married-civ-spouse|    Prof-specialty|       Husband| Asian-Pac-Islander|   Male|           0|           0|            40|         India|  >50K|\n",
      "| 23|          Private|122272|    Bachelors|           13|       Never-married|      Adm-clerical|     Own-child|              White| Female|           0|           0|            30| United-States| <=50K|\n",
      "| 32|          Private|205019|   Assoc-acdm|           12|       Never-married|             Sales| Not-in-family|              Black|   Male|           0|           0|            50| United-States| <=50K|\n",
      "| 40|          Private|121772|    Assoc-voc|           11|  Married-civ-spouse|      Craft-repair|       Husband| Asian-Pac-Islander|   Male|           0|           0|            40|             ?|  >50K|\n",
      "| 34|          Private|245487|      7th-8th|            4|  Married-civ-spouse|  Transport-moving|       Husband| Amer-Indian-Eskimo|   Male|           0|           0|            45|        Mexico| <=50K|\n",
      "| 25| Self-emp-not-inc|176756|      HS-grad|            9|       Never-married|   Farming-fishing|     Own-child|              White|   Male|           0|           0|            35| United-States| <=50K|\n",
      "| 32|          Private|186824|      HS-grad|            9|       Never-married| Machine-op-inspct|     Unmarried|              White|   Male|           0|           0|            40| United-States| <=50K|\n",
      "| 38|          Private| 28887|         11th|            7|  Married-civ-spouse|             Sales|       Husband|              White|   Male|           0|           0|            50| United-States| <=50K|\n",
      "| 43| Self-emp-not-inc|292175|      Masters|           14|            Divorced|   Exec-managerial|     Unmarried|              White| Female|           0|           0|            45| United-States|  >50K|\n",
      "+---+-----------------+------+-------------+-------------+--------------------+------------------+--------------+-------------------+-------+------------+------------+--------------+--------------+------+\n",
      "only showing top 20 rows\n",
      "\n"
     ]
    }
   ],
   "source": [
    "adult_data_df = spark.read.load(r\"adult.csv\", format=\"csv\", header=True, delimiter=\",\")\n",
    "adult_data_df.show()"
   ]
  },
  {
   "cell_type": "code",
   "execution_count": 10,
   "metadata": {},
   "outputs": [],
   "source": [
    "adult_data_df = adult_data_df.withColumn(\"age\", adult_data_df[\"age\"].cast(IntegerType()))\n",
    "adult_data_df = adult_data_df.withColumn(\"fnlwgt\", adult_data_df[\"fnlwgt\"].cast(IntegerType()))\n",
    "adult_data_df = adult_data_df.withColumn(\"education-num\", adult_data_df[\"education-num\"].cast(IntegerType()))\n",
    "adult_data_df = adult_data_df.withColumn(\"capital-gain\", adult_data_df[\"capital-gain\"].cast(IntegerType()))\n",
    "adult_data_df = adult_data_df.withColumn(\"capital-loss\", adult_data_df[\"capital-loss\"].cast(IntegerType()))\n",
    "adult_data_df = adult_data_df.withColumn(\"hours-per-week\", adult_data_df[\"hours-per-week\"].cast(IntegerType()))"
   ]
  },
  {
   "cell_type": "code",
   "execution_count": 11,
   "metadata": {},
   "outputs": [
    {
     "name": "stdout",
     "output_type": "stream",
     "text": [
      "root\n",
      " |-- age: integer (nullable = true)\n",
      " |-- workclass: string (nullable = true)\n",
      " |-- fnlwgt: integer (nullable = true)\n",
      " |-- education: string (nullable = true)\n",
      " |-- education-num: integer (nullable = true)\n",
      " |-- marital-status: string (nullable = true)\n",
      " |-- occupation: string (nullable = true)\n",
      " |-- relationship: string (nullable = true)\n",
      " |-- race: string (nullable = true)\n",
      " |-- sex: string (nullable = true)\n",
      " |-- capital-gain: integer (nullable = true)\n",
      " |-- capital-loss: integer (nullable = true)\n",
      " |-- hours-per-week: integer (nullable = true)\n",
      " |-- native-country: string (nullable = true)\n",
      " |-- X: string (nullable = true)\n",
      "\n"
     ]
    }
   ],
   "source": [
    "adult_data_df.printSchema()"
   ]
  },
  {
   "cell_type": "code",
   "execution_count": 12,
   "metadata": {},
   "outputs": [
    {
     "name": "stdout",
     "output_type": "stream",
     "text": [
      "root\n",
      " |-- age: integer (nullable = true)\n",
      " |-- workclass: string (nullable = true)\n",
      " |-- fnlwgt: integer (nullable = true)\n",
      " |-- education: string (nullable = true)\n",
      " |-- education-num: integer (nullable = true)\n",
      " |-- marital-status: string (nullable = true)\n",
      " |-- occupation: string (nullable = true)\n",
      " |-- relationship: string (nullable = true)\n",
      " |-- race: string (nullable = true)\n",
      " |-- sex: string (nullable = true)\n",
      " |-- capital-gain: integer (nullable = true)\n",
      " |-- capital-loss: integer (nullable = true)\n",
      " |-- hours-per-week: integer (nullable = true)\n",
      " |-- native-country: string (nullable = true)\n",
      " |-- X: string (nullable = true)\n",
      " |-- label: integer (nullable = true)\n",
      "\n"
     ]
    }
   ],
   "source": [
    "adult_data_df = adult_data_df.withColumn(\"label\", adult_data_df['hours-per-week'] - 0)\n",
    "adult_data_df.printSchema()"
   ]
  },
  {
   "cell_type": "code",
   "execution_count": 13,
   "metadata": {},
   "outputs": [
    {
     "name": "stdout",
     "output_type": "stream",
     "text": [
      "+---+-----------------+------+----------+-------------+-------------------+------------------+--------------+------+-------+------------+------------+--------------+--------------+------+-----+-----------------+\n",
      "|age|        workclass|fnlwgt| education|education-num|     marital-status|        occupation|  relationship|  race|    sex|capital-gain|capital-loss|hours-per-week|native-country|     X|label|         features|\n",
      "+---+-----------------+------+----------+-------------+-------------------+------------------+--------------+------+-------+------------+------------+--------------+--------------+------+-----+-----------------+\n",
      "| 39|        State-gov| 77516| Bachelors|           13|      Never-married|      Adm-clerical| Not-in-family| White|   Male|        2174|           0|            40| United-States| <=50K|   40|[2174.0,0.0,40.0]|\n",
      "| 50| Self-emp-not-inc| 83311| Bachelors|           13| Married-civ-spouse|   Exec-managerial|       Husband| White|   Male|           0|           0|            13| United-States| <=50K|   13|   [0.0,0.0,13.0]|\n",
      "| 38|          Private|215646|   HS-grad|            9|           Divorced| Handlers-cleaners| Not-in-family| White|   Male|           0|           0|            40| United-States| <=50K|   40|   [0.0,0.0,40.0]|\n",
      "| 53|          Private|234721|      11th|            7| Married-civ-spouse| Handlers-cleaners|       Husband| Black|   Male|           0|           0|            40| United-States| <=50K|   40|   [0.0,0.0,40.0]|\n",
      "| 28|          Private|338409| Bachelors|           13| Married-civ-spouse|    Prof-specialty|          Wife| Black| Female|           0|           0|            40|          Cuba| <=50K|   40|   [0.0,0.0,40.0]|\n",
      "+---+-----------------+------+----------+-------------+-------------------+------------------+--------------+------+-------+------------+------------+--------------+--------------+------+-----+-----------------+\n",
      "only showing top 5 rows\n",
      "\n"
     ]
    }
   ],
   "source": [
    "assem = VectorAssembler(inputCols=adult_data_df.columns[10:13], outputCol='features')\n",
    "x = assem.transform(adult_data_df)\n",
    "x.show(5)"
   ]
  },
  {
   "cell_type": "code",
   "execution_count": 14,
   "metadata": {},
   "outputs": [
    {
     "name": "stdout",
     "output_type": "stream",
     "text": [
      "+---+---------+------+---------+-------------+--------------+----------+------------+------+-------+------------+------------+--------------+--------------+------+-----+--------------+--------------------+--------------------+----------+\n",
      "|age|workclass|fnlwgt|education|education-num|marital-status|occupation|relationship|  race|    sex|capital-gain|capital-loss|hours-per-week|native-country|     X|label|      features|       rawPrediction|         probability|prediction|\n",
      "+---+---------+------+---------+-------------+--------------+----------+------------+------+-------+------------+------------+--------------+--------------+------+-----+--------------+--------------------+--------------------+----------+\n",
      "| 17|        ?| 34019|     10th|            6| Never-married|         ?|   Own-child| White|   Male|           0|           0|            20| United-States| <=50K|   20|[0.0,0.0,20.0]|[-99.699068497548...|[1.07468075898575...|      48.0|\n",
      "| 17|        ?| 34088|     12th|            8| Never-married|         ?|   Own-child| White| Female|           0|           0|            25| United-States| <=50K|   25|[0.0,0.0,25.0]|[-122.81341731298...|[1.03077614281196...|      48.0|\n",
      "| 17|        ?| 48703|     11th|            7| Never-married|         ?|   Own-child| White| Female|           0|           0|            30| United-States| <=50K|   30|[0.0,0.0,30.0]|[-145.92776612842...|[9.87215454791753...|      48.0|\n",
      "+---+---------+------+---------+-------------+--------------+----------+------------+------+-------+------------+------------+--------------+--------------+------+-----+--------------+--------------------+--------------------+----------+\n",
      "only showing top 3 rows\n",
      "\n",
      "Test set accuracy = 0.014654251259349717\n"
     ]
    }
   ],
   "source": [
    "train,test = x.randomSplit([0.6, 0.4], 1234)\n",
    "nb1 = NaiveBayes(smoothing=1.0, modelType=\"multinomial\")\n",
    "model1 = nb1.fit(train)\n",
    "predictions = model1.transform(test)\n",
    "predictions.show(3)\n",
    "evaluator = MulticlassClassificationEvaluator(labelCol=\"label\", predictionCol=\"prediction\",\n",
    "                                              metricName=\"accuracy\")\n",
    "accuracy = evaluator.evaluate(predictions)\n",
    "print(\"Test set accuracy = \" + str(accuracy))"
   ]
  },
  {
   "cell_type": "code",
   "execution_count": 15,
   "metadata": {},
   "outputs": [
    {
     "name": "stdout",
     "output_type": "stream",
     "text": [
      "+---+---------+------+---------+-------------+--------------+----------+------------+------+-------+------------+------------+--------------+--------------+------+-----+--------------+--------------------+--------------------+----------+\n",
      "|age|workclass|fnlwgt|education|education-num|marital-status|occupation|relationship|  race|    sex|capital-gain|capital-loss|hours-per-week|native-country|     X|label|      features|       rawPrediction|         probability|prediction|\n",
      "+---+---------+------+---------+-------------+--------------+----------+------------+------+-------+------------+------------+--------------+--------------+------+-----+--------------+--------------------+--------------------+----------+\n",
      "| 17|        ?| 34019|     10th|            6| Never-married|         ?|   Own-child| White|   Male|           0|           0|            20| United-States| <=50K|   20|[0.0,0.0,20.0]|[-89.690334789396...|[3.96471113735323...|      48.0|\n",
      "| 17|        ?| 34088|     12th|            8| Never-married|         ?|   Own-child| White| Female|           0|           0|            25| United-States| <=50K|   25|[0.0,0.0,25.0]|[-110.41634968667...|[4.95252920754608...|      48.0|\n",
      "| 17|        ?| 48703|     11th|            7| Never-married|         ?|   Own-child| White| Female|           0|           0|            30| United-States| <=50K|   30|[0.0,0.0,30.0]|[-131.14236458395...|[5.99320624027930...|      48.0|\n",
      "+---+---------+------+---------+-------------+--------------+----------+------------+------+-------+------------+------------+--------------+--------------+------+-----+--------------+--------------------+--------------------+----------+\n",
      "only showing top 3 rows\n",
      "\n",
      "Test set accuracy = 0.014654251259349717\n"
     ]
    }
   ],
   "source": [
    "nb2 = NaiveBayes(smoothing=10.0, modelType=\"multinomial\")\n",
    "\n",
    "# train the model\n",
    "model2 = nb2.fit(train)\n",
    "\n",
    "# select example rows to display.\n",
    "predictions = model2.transform(test)\n",
    "predictions.show(3)\n",
    "# compute accuracy on the test set\n",
    "evaluator = MulticlassClassificationEvaluator(labelCol=\"label\", predictionCol=\"prediction\",\n",
    "                                              metricName=\"accuracy\")\n",
    "accuracy = evaluator.evaluate(predictions)\n",
    "print(\"Test set accuracy = \" + str(accuracy))"
   ]
  },
  {
   "cell_type": "code",
   "execution_count": 16,
   "metadata": {},
   "outputs": [
    {
     "name": "stdout",
     "output_type": "stream",
     "text": [
      "+---+---------+------+---------+-------------+--------------+----------+------------+------+-------+------------+------------+--------------+--------------+------+-----+--------------+--------------------+--------------------+----------+\n",
      "|age|workclass|fnlwgt|education|education-num|marital-status|occupation|relationship|  race|    sex|capital-gain|capital-loss|hours-per-week|native-country|     X|label|      features|       rawPrediction|         probability|prediction|\n",
      "+---+---------+------+---------+-------------+--------------+----------+------------+------+-------+------------+------------+--------------+--------------+------+-----+--------------+--------------------+--------------------+----------+\n",
      "| 17|        ?| 34019|     10th|            6| Never-married|         ?|   Own-child| White|   Male|           0|           0|            20| United-States| <=50K|   20|[0.0,0.0,20.0]|[0.0,13.0,24.0,22...|[0.0,0.0066666666...|      20.0|\n",
      "| 17|        ?| 34088|     12th|            8| Never-married|         ?|   Own-child| White| Female|           0|           0|            25| United-States| <=50K|   25|[0.0,0.0,25.0]|[0.0,0.0,0.0,0.0,...|[0.0,0.0,0.0,0.0,...|      25.0|\n",
      "| 17|        ?| 48703|     11th|            7| Never-married|         ?|   Own-child| White| Female|           0|           0|            30| United-States| <=50K|   30|[0.0,0.0,30.0]|[0.0,0.0,0.0,0.0,...|[0.0,0.0,0.0,0.0,...|      30.0|\n",
      "+---+---------+------+---------+-------------+--------------+----------+------------+------+-------+------------+------------+--------------+--------------+------+-----+--------------+--------------------+--------------------+----------+\n",
      "only showing top 3 rows\n",
      "\n",
      "Test set accuracy = 0.8809342085177836\n"
     ]
    }
   ],
   "source": [
    "from pyspark.ml.classification import DecisionTreeClassifier\n",
    "nb3 = DecisionTreeClassifier(labelCol=\"label\", featuresCol=\"features\")\n",
    "\n",
    "# train the model\n",
    "model3 = nb3.fit(train)\n",
    "\n",
    "# select example rows to display.\n",
    "predictions = model3.transform(test)\n",
    "predictions.show(3)\n",
    "\n",
    "# compute accuracy on the test set\n",
    "evaluator = MulticlassClassificationEvaluator(labelCol=\"label\", predictionCol=\"prediction\",\n",
    "                                              metricName=\"accuracy\")\n",
    "accuracy = evaluator.evaluate(predictions)\n",
    "print(\"Test set accuracy = \" + str(accuracy))"
   ]
  },
  {
   "cell_type": "code",
   "execution_count": 17,
   "metadata": {},
   "outputs": [
    {
     "name": "stdout",
     "output_type": "stream",
     "text": [
      "+---+---------+------+---------+-------------+--------------+----------+------------+------+-------+------------+------------+--------------+--------------+------+-----+--------------+--------------------+--------------------+----------+\n",
      "|age|workclass|fnlwgt|education|education-num|marital-status|occupation|relationship|  race|    sex|capital-gain|capital-loss|hours-per-week|native-country|     X|label|      features|       rawPrediction|         probability|prediction|\n",
      "+---+---------+------+---------+-------------+--------------+----------+------------+------+-------+------------+------------+--------------+--------------+------+-----+--------------+--------------------+--------------------+----------+\n",
      "| 17|        ?| 34019|     10th|            6| Never-married|         ?|   Own-child| White|   Male|           0|           0|            20| United-States| <=50K|   20|[0.0,0.0,20.0]|[0.0,0.4679580176...|[0.0,0.0046795801...|      20.0|\n",
      "| 17|        ?| 34088|     12th|            8| Never-married|         ?|   Own-child| White| Female|           0|           0|            25| United-States| <=50K|   25|[0.0,0.0,25.0]|[0.0,0.3716391503...|[0.0,0.0037163915...|      20.0|\n",
      "| 17|        ?| 48703|     11th|            7| Never-married|         ?|   Own-child| White| Female|           0|           0|            30| United-States| <=50K|   30|[0.0,0.0,30.0]|[0.0,0.1669643492...|[0.0,0.0016696434...|      30.0|\n",
      "+---+---------+------+---------+-------------+--------------+----------+------------+------+-------+------------+------------+--------------+--------------+------+-----+--------------+--------------------+--------------------+----------+\n",
      "only showing top 3 rows\n",
      "\n",
      "Test set accuracy = 0.8355976186841704\n"
     ]
    }
   ],
   "source": [
    "from pyspark.ml.classification import RandomForestClassifier\n",
    "\n",
    "# create the trainer and set its parameters\n",
    "nb3 = RandomForestClassifier(labelCol=\"label\", featuresCol=\"features\", numTrees=100)\n",
    "\n",
    "# train the model\n",
    "model3 = nb3.fit(train)\n",
    "\n",
    "# select example rows to display.\n",
    "predictions = model3.transform(test)\n",
    "predictions.show(3)\n",
    "\n",
    "# compute accuracy on the test set\n",
    "evaluator = MulticlassClassificationEvaluator(labelCol=\"label\", predictionCol=\"prediction\",\n",
    "                                              metricName=\"accuracy\")\n",
    "accuracy = evaluator.evaluate(predictions)\n",
    "print(\"Test set accuracy = \" + str(accuracy))"
   ]
  },
  {
   "cell_type": "code",
   "execution_count": 19,
   "metadata": {},
   "outputs": [
    {
     "name": "stdout",
     "output_type": "stream",
     "text": [
      "[ 1.83677572  3.79369994  5.86290976  4.99109951 55.71866995]\n",
      "[ 2.31211955  3.5955244   5.58751622  3.48021655 23.67109071]\n"
     ]
    }
   ],
   "source": [
    "#clustering\n",
    "from pyspark.ml.clustering import KMeans\n",
    "dataset_diabetes_df = spark.read.format(\"csv\").option(\"header\", True).option(\"inferSchema\", True).option(\"delimiter\", \",\").load(r\"C:\\Users\\sarik\\diabetic_data.csv\")\n",
    "dataset_diabetes_df = dataset_diabetes_df.select(\"admission_type_id\", \"discharge_disposition_id\", \"admission_source_id\", \"time_in_hospital\", \"num_lab_procedures\")\n",
    "\n",
    "# vector assembler for feature columns\n",
    "assembler = VectorAssembler(inputCols=dataset_diabetes_df.columns, outputCol=\"features\")\n",
    "data = assembler.transform(dataset_diabetes_df)\n",
    "\n",
    "#k-means model.\n",
    "kmeans = KMeans().setK(2).setSeed(1)\n",
    "\n",
    "model = kmeans.fit(data)\n",
    "\n",
    "# Make predictions\n",
    "predictions = model.transform(data)\n",
    "\n",
    "# Shows the result.\n",
    "centers = model.clusterCenters()\n",
    "for center in centers:\n",
    "    print(center)"
   ]
  },
  {
   "cell_type": "code",
   "execution_count": 21,
   "metadata": {},
   "outputs": [],
   "source": [
    "linear_data_df = spark.read.format(\"csv\").option(\"header\", True)\\\n",
    ".option(\"inferSchema\", True).option(\"delimiter\", \",\")\\\n",
    ".load(r\"C:\\Users\\sarik\\imports-85.csv\")\n",
    "linear_data_df1 = linear_data_df.withColumnRenamed(\"wheel-base\", \"label\").select(\"label\", \"length\", \"width\", \"height\")"
   ]
  },
  {
   "cell_type": "code",
   "execution_count": 22,
   "metadata": {},
   "outputs": [
    {
     "name": "stdout",
     "output_type": "stream",
     "text": [
      "Coefficients: [0.22836801258821893,0.8223218915856468,0.580595102043434]\n",
      "Intercept: -26.380531957157498\n",
      "numIterations: 11\n",
      "objectiveHistory: [0.5, 0.38579526656819896, 0.13000842393266873, 0.12985504772567413, 0.12963704261349218, 0.12947103310674205, 0.1294164378448031, 0.1294050846483987, 0.12940508261516015, 0.1294050824628613, 0.12940508245526855]\n",
      "+--------------------+\n",
      "|           residuals|\n",
      "+--------------------+\n",
      "|  -4.611862798093398|\n",
      "|  -4.611862798093398|\n",
      "|  -2.501339043881387|\n",
      "|-0.11328232985025011|\n",
      "| -0.6777467081673763|\n",
      "|  0.3413419946315486|\n",
      "|  -2.878914311626758|\n",
      "|  -2.878914311626758|\n",
      "| -2.9950333320354474|\n",
      "| -0.8412496309870932|\n",
      "|  2.3922947158520174|\n",
      "|  2.3922947158520174|\n",
      "|  2.3922947158520174|\n",
      "|  2.3922947158520174|\n",
      "| -0.6335041529149237|\n",
      "| -0.6335041529149237|\n",
      "| -1.3908023008371515|\n",
      "|  0.4019071188106693|\n",
      "|   2.084135889634638|\n",
      "|   2.787341183548463|\n",
      "+--------------------+\n",
      "only showing top 20 rows\n",
      "\n",
      "RMSE: 2.517190\n",
      "r2: 0.824407\n"
     ]
    }
   ],
   "source": [
    "from pyspark.ml.regression import LinearRegression\n",
    "\n",
    "assembler = VectorAssembler(inputCols=linear_data_df1.columns[1:], outputCol=\"features\")\n",
    "y = assembler.transform(linear_data_df1)\n",
    "\n",
    "lr = LinearRegression(maxIter=10, regParam=0.3, elasticNetParam=0.8)\n",
    "model = lr.fit(y)\n",
    "\n",
    "# Print the coefficients and intercept for linear regression\n",
    "print(\"Coefficients: %s\" % str(model.coefficients))\n",
    "print(\"Intercept: %s\" % str(model.intercept))\n",
    "\n",
    "# Summarize the model over the training set and print out some metrics\n",
    "trainingSummary = model.summary\n",
    "print(\"numIterations: %d\" % trainingSummary.totalIterations)\n",
    "print(\"objectiveHistory: %s\" % str(trainingSummary.objectiveHistory))\n",
    "trainingSummary.residuals.show()\n",
    "print(\"RMSE: %f\" % trainingSummary.rootMeanSquaredError)\n",
    "print(\"r2: %f\" % trainingSummary.r2)"
   ]
  },
  {
   "cell_type": "code",
   "execution_count": 23,
   "metadata": {},
   "outputs": [],
   "source": [
    "from pyspark.sql.functions import col, when\n",
    "logistic_df = linear_data_df.withColumn(\"label\", when(col(\"num-of-doors\") == \"four\", 1).otherwise(0)).select(\"label\", \"length\", \"width\", \"height\")"
   ]
  },
  {
   "cell_type": "code",
   "execution_count": 25,
   "metadata": {},
   "outputs": [
    {
     "name": "stdout",
     "output_type": "stream",
     "text": [
      "Coefficients: [0.0,0.0,0.000100509510875788]\n",
      "Intercept: 0.22531532410664368\n"
     ]
    }
   ],
   "source": [
    "from pyspark.ml.classification import LogisticRegression\n",
    "assembler = VectorAssembler(inputCols=logistic_df.columns[1:], outputCol=\"features\")\n",
    "z = assembler.transform(logistic_df)\n",
    "\n",
    "lr = LogisticRegression(maxIter=10, regParam=0.3, elasticNetParam=0.8)\n",
    "\n",
    "# Fit the model\n",
    "model = lr.fit(z)\n",
    "\n",
    "# Print the coefficients and intercept for logistic regression\n",
    "print(\"Coefficients: \" + str(model.coefficients))\n",
    "print(\"Intercept: \" + str(model.intercept))"
   ]
  },
  {
   "cell_type": "code",
   "execution_count": 26,
   "metadata": {},
   "outputs": [
    {
     "name": "stdout",
     "output_type": "stream",
     "text": [
      "Multinomial coefficients: DenseMatrix([[ 0.00000000e+00,  0.00000000e+00, -7.35292649e-05],\n",
      "             [ 0.00000000e+00,  0.00000000e+00,  7.35292649e-05]])\n",
      "Multinomial intercepts: [-0.11156262444620539,0.11156262444620539]\n"
     ]
    }
   ],
   "source": [
    "\n",
    "mlr = LogisticRegression(maxIter=10, regParam=0.3, elasticNetParam=0.8, family=\"multinomial\")\n",
    "\n",
    "# Fit the model\n",
    "mlr_model = mlr.fit(z)\n",
    "\n",
    "# Print the coefficients and intercepts for logistic regression with multinomial family\n",
    "print(\"Multinomial coefficients: \" + str(mlr_model.coefficientMatrix))\n",
    "print(\"Multinomial intercepts: \" + str(mlr_model.interceptVector))"
   ]
  },
  {
   "cell_type": "code",
   "execution_count": null,
   "metadata": {},
   "outputs": [],
   "source": []
  }
 ],
 "metadata": {
  "kernelspec": {
   "display_name": "Python 3",
   "language": "python",
   "name": "python3"
  },
  "language_info": {
   "codemirror_mode": {
    "name": "ipython",
    "version": 3
   },
   "file_extension": ".py",
   "mimetype": "text/x-python",
   "name": "python",
   "nbconvert_exporter": "python",
   "pygments_lexer": "ipython3",
   "version": "3.7.6"
  }
 },
 "nbformat": 4,
 "nbformat_minor": 4
}
