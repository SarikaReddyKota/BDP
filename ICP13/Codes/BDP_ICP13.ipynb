{
 "cells": [
  {
   "cell_type": "code",
   "execution_count": 1,
   "metadata": {},
   "outputs": [
    {
     "name": "stdout",
     "output_type": "stream",
     "text": [
      "Requirement already satisfied: pyspark in c:\\programdata\\anaconda3\\lib\\site-packages (2.4.5)\n",
      "Requirement already satisfied: py4j==0.10.7 in c:\\programdata\\anaconda3\\lib\\site-packages (from pyspark) (0.10.7)\n",
      "Note: you may need to restart the kernel to use updated packages.\n"
     ]
    }
   ],
   "source": [
    "pip install pyspark\n"
   ]
  },
  {
   "cell_type": "code",
   "execution_count": 2,
   "metadata": {},
   "outputs": [
    {
     "name": "stdout",
     "output_type": "stream",
     "text": [
      "Collecting graphframes\n",
      "  Using cached graphframes-0.6-py2.py3-none-any.whl (18 kB)\n",
      "Requirement already satisfied: numpy in c:\\programdata\\anaconda3\\lib\\site-packages (from graphframes) (1.18.1)\n",
      "Requirement already satisfied: nose in c:\\programdata\\anaconda3\\lib\\site-packages (from graphframes) (1.3.7)\n",
      "Installing collected packages: graphframes\n",
      "Successfully installed graphframes-0.6\n",
      "Note: you may need to restart the kernel to use updated packages.\n"
     ]
    }
   ],
   "source": [
    "pip install graphframes"
   ]
  },
  {
   "cell_type": "code",
   "execution_count": 3,
   "metadata": {},
   "outputs": [
    {
     "name": "stdout",
     "output_type": "stream",
     "text": [
      "Requirement already satisfied: findspark in c:\\programdata\\anaconda3\\lib\\site-packages (1.3.0)\n",
      "Note: you may need to restart the kernel to use updated packages.\n"
     ]
    }
   ],
   "source": [
    "pip install findspark"
   ]
  },
  {
   "cell_type": "code",
   "execution_count": 4,
   "metadata": {},
   "outputs": [],
   "source": [
    "import findspark\n",
    "findspark.init()"
   ]
  },
  {
   "cell_type": "code",
   "execution_count": 6,
   "metadata": {},
   "outputs": [],
   "source": [
    "from pyspark import SparkContext,SQLContext\n",
    "from graphframes import *\n",
    "import pyspark.sql.functions as f\n",
    "\n",
    "sc = SparkContext.getOrCreate()\n",
    "sc.addPyFile('C:\\spark-3.0.0-preview2-bin-hadoop2.7\\jars\\graphframes_graphframes-0.8.0-spark3.0-s_2.12.jar')\n",
    "sqlcontext=SQLContext(sc)"
   ]
  },
  {
   "cell_type": "code",
   "execution_count": 8,
   "metadata": {},
   "outputs": [],
   "source": [
    "station_data_df= sqlcontext.read.format(\"csv\").option(\"header\", \"true\").csv(r'C:\\Users\\sarik\\PycharmProjects\\BDP_ICP12\\station_data.csv')\n",
    "trips_df= sqlcontext.read.format(\"csv\").option(\"header\", \"true\").csv(r'C:\\Users\\sarik\\PycharmProjects\\BDP_ICP12\\trip_data.csv')"
   ]
  },
  {
   "cell_type": "code",
   "execution_count": 9,
   "metadata": {},
   "outputs": [
    {
     "name": "stdout",
     "output_type": "stream",
     "text": [
      "+----------+--------------------+---------+-----------+---------+------------+------------+\n",
      "|station_id|                name|      lat|       long|dockcount|    landmark|installation|\n",
      "+----------+--------------------+---------+-----------+---------+------------+------------+\n",
      "|         2|San Jose Diridon ...|37.329732|-121.901782|       27|    San Jose|    8/6/2013|\n",
      "|         3|San Jose Civic Ce...|37.330698|-121.888979|       15|    San Jose|    8/5/2013|\n",
      "|         4|Santa Clara at Al...|37.333988|-121.894902|       11|    San Jose|    8/6/2013|\n",
      "|         5|    Adobe on Almaden|37.331415|  -121.8932|       19|    San Jose|    8/5/2013|\n",
      "|         6|    San Pedro Square|37.336721|-121.894074|       15|    San Jose|    8/7/2013|\n",
      "|         7|Paseo de San Antonio|37.333798|-121.886943|       15|    San Jose|    8/7/2013|\n",
      "|         8| San Salvador at 1st|37.330165|-121.885831|       15|    San Jose|    8/5/2013|\n",
      "|         9|           Japantown|37.348742|-121.894715|       15|    San Jose|    8/5/2013|\n",
      "|        10|  San Jose City Hall|37.337391|-121.886995|       15|    San Jose|    8/6/2013|\n",
      "|        11|         MLK Library|37.335885| -121.88566|       19|    San Jose|    8/6/2013|\n",
      "|        12|SJSU 4th at San C...|37.332808|-121.883891|       19|    San Jose|    8/7/2013|\n",
      "|        13|       St James Park|37.339301|-121.889937|       15|    San Jose|    8/6/2013|\n",
      "|        14|Arena Green / SAP...|37.332692|-121.900084|       19|    San Jose|    8/5/2013|\n",
      "|        16|SJSU - San Salvad...|37.333955|-121.877349|       15|    San Jose|    8/7/2013|\n",
      "|        21|   Franklin at Maple|37.481758|-122.226904|       15|Redwood City|   8/12/2013|\n",
      "|        22|Redwood City Calt...|37.486078|-122.232089|       25|Redwood City|   8/15/2013|\n",
      "|        23|San Mateo County ...|37.487616|-122.229951|       15|Redwood City|   8/15/2013|\n",
      "|        24|Redwood City Publ...|37.484219|-122.227424|       15|Redwood City|   8/12/2013|\n",
      "|        25|Stanford in Redwo...| 37.48537|-122.203288|       15|Redwood City|   8/12/2013|\n",
      "|        26|Redwood City Medi...|37.487682|-122.223492|       15|Redwood City|   8/12/2013|\n",
      "+----------+--------------------+---------+-----------+---------+------------+------------+\n",
      "only showing top 20 rows\n",
      "\n"
     ]
    }
   ],
   "source": [
    "station_data_df.show()"
   ]
  },
  {
   "cell_type": "code",
   "execution_count": 10,
   "metadata": {},
   "outputs": [
    {
     "name": "stdout",
     "output_type": "stream",
     "text": [
      "+--------------------+\n",
      "|                  id|\n",
      "+--------------------+\n",
      "|San Jose Diridon ...|\n",
      "|San Jose Civic Ce...|\n",
      "|Santa Clara at Al...|\n",
      "|    Adobe on Almaden|\n",
      "|    San Pedro Square|\n",
      "|Paseo de San Antonio|\n",
      "| San Salvador at 1st|\n",
      "|           Japantown|\n",
      "|  San Jose City Hall|\n",
      "|         MLK Library|\n",
      "|SJSU 4th at San C...|\n",
      "|       St James Park|\n",
      "|Arena Green / SAP...|\n",
      "|SJSU - San Salvad...|\n",
      "|   Franklin at Maple|\n",
      "|Redwood City Calt...|\n",
      "|San Mateo County ...|\n",
      "|Redwood City Publ...|\n",
      "|Stanford in Redwo...|\n",
      "|Redwood City Medi...|\n",
      "+--------------------+\n",
      "only showing top 20 rows\n",
      "\n"
     ]
    }
   ],
   "source": [
    "station_data_vertices=station_data_df.withColumnRenamed(\"name\",\"id\").select(\"id\").distinct()\n",
    "station_data_vertices.show()"
   ]
  },
  {
   "cell_type": "code",
   "execution_count": 11,
   "metadata": {},
   "outputs": [],
   "source": [
    "trip_edges=trips_df.withColumnRenamed(\"Start Station\",\"src\")\\\n",
    ".withColumnRenamed(\"End Station\",\"dst\")\\\n",
    ".select(\"src\",\"dst\")"
   ]
  },
  {
   "cell_type": "code",
   "execution_count": 12,
   "metadata": {},
   "outputs": [
    {
     "name": "stdout",
     "output_type": "stream",
     "text": [
      "+--------------------+--------------------+\n",
      "|                 src|                 dst|\n",
      "+--------------------+--------------------+\n",
      "|Harry Bridges Pla...|San Francisco Cal...|\n",
      "|San Antonio Shopp...|Mountain View Cit...|\n",
      "|      Post at Kearny|   2nd at South Park|\n",
      "|  San Jose City Hall| San Salvador at 1st|\n",
      "|Embarcadero at Fo...|Embarcadero at Sa...|\n",
      "|Yerba Buena Cente...|San Francisco Cal...|\n",
      "|Embarcadero at Fo...|Embarcadero at Sa...|\n",
      "|Embarcadero at Sa...|   Steuart at Market|\n",
      "|     Beale at Market|Temporary Transba...|\n",
      "|      Post at Kearny|South Van Ness at...|\n",
      "|Embarcadero at Sa...|   Market at Sansome|\n",
      "|      Market at 10th|San Francisco Cal...|\n",
      "|       Market at 4th|Grant Avenue at C...|\n",
      "|   Market at Sansome|Broadway St at Ba...|\n",
      "|Temporary Transba...|San Francisco Cal...|\n",
      "|San Francisco Cal...|     Townsend at 7th|\n",
      "|University and Em...|Cowper at University|\n",
      "|     Spear at Folsom|San Francisco Cal...|\n",
      "|Temporary Transba...|Grant Avenue at C...|\n",
      "|San Francisco Cal...|Broadway St at Ba...|\n",
      "+--------------------+--------------------+\n",
      "only showing top 20 rows\n",
      "\n"
     ]
    }
   ],
   "source": [
    "trip_edges.show()"
   ]
  },
  {
   "cell_type": "code",
   "execution_count": 13,
   "metadata": {},
   "outputs": [
    {
     "data": {
      "text/plain": [
       "GraphFrame(v:[id: string], e:[src: string, dst: string])"
      ]
     },
     "execution_count": 13,
     "metadata": {},
     "output_type": "execute_result"
    }
   ],
   "source": [
    "g=GraphFrame(station_data_vertices,trip_edges)\n",
    "g"
   ]
  },
  {
   "cell_type": "code",
   "execution_count": 14,
   "metadata": {},
   "outputs": [
    {
     "name": "stdout",
     "output_type": "stream",
     "text": [
      "+-----+--------------------+\n",
      "|count|                  id|\n",
      "+-----+--------------------+\n",
      "|  496|       2nd at Folsom|\n",
      "|   23|California Ave Ca...|\n",
      "|    0|Washington at Kea...|\n",
      "|  496|Powell at Post (U...|\n",
      "|  496| Golden Gate at Polk|\n",
      "|  496|Yerba Buena Cente...|\n",
      "|  496|   Market at Sansome|\n",
      "|   90|         MLK Library|\n",
      "|  496|     Spear at Folsom|\n",
      "|   77|           Japantown|\n",
      "|  496|Commercial at Mon...|\n",
      "|   81|Paseo de San Antonio|\n",
      "|   23|Rengstorff Avenue...|\n",
      "|   61| San Salvador at 1st|\n",
      "|  496|     Townsend at 7th|\n",
      "|  496|Civic Center BART...|\n",
      "|   41|         Ryland Park|\n",
      "|   90|San Jose Diridon ...|\n",
      "|   63|San Jose Civic Ce...|\n",
      "|    0|     Post at Kearney|\n",
      "+-----+--------------------+\n",
      "only showing top 20 rows\n",
      "\n"
     ]
    }
   ],
   "source": [
    "g.triangleCount().show()"
   ]
  },
  {
   "cell_type": "code",
   "execution_count": 15,
   "metadata": {},
   "outputs": [
    {
     "name": "stdout",
     "output_type": "stream",
     "text": [
      "+--------------------+--------------------+\n",
      "|                  id|           distances|\n",
      "+--------------------+--------------------+\n",
      "|San Jose Diridon ...|    [Japantown -> 1]|\n",
      "|Embarcadero at Va...|[2nd at Folsom -> 2]|\n",
      "|    San Pedro Square|    [Japantown -> 1]|\n",
      "|Arena Green / SAP...|    [Japantown -> 1]|\n",
      "|San Francisco Cal...|[2nd at Folsom -> 1]|\n",
      "|Washington at Kea...|                  []|\n",
      "|San Francisco Cal...|[2nd at Folsom -> 1]|\n",
      "|   Steuart at Market|[2nd at Folsom -> 1]|\n",
      "|Broadway St at Ba...|[2nd at Folsom -> 1]|\n",
      "|         Ryland Park|    [Japantown -> 1]|\n",
      "|   Market at Sansome|[2nd at Folsom -> 1]|\n",
      "|    Davis at Jackson|[2nd at Folsom -> 1]|\n",
      "|San Mateo County ...|                  []|\n",
      "|Redwood City Calt...|                  []|\n",
      "|         MLK Library|    [Japantown -> 1]|\n",
      "|   Franklin at Maple|                  []|\n",
      "|Mountain View Cal...|                  []|\n",
      "|Grant Avenue at C...|[2nd at Folsom -> 1]|\n",
      "| Golden Gate at Polk|[2nd at Folsom -> 2]|\n",
      "|San Antonio Shopp...|                  []|\n",
      "+--------------------+--------------------+\n",
      "only showing top 20 rows\n",
      "\n"
     ]
    }
   ],
   "source": [
    "g.shortestPaths(landmarks=[\"2nd at Folsom\", \"Japantown\"]).show()"
   ]
  },
  {
   "cell_type": "code",
   "execution_count": 16,
   "metadata": {},
   "outputs": [
    {
     "name": "stdout",
     "output_type": "stream",
     "text": [
      "+--------------------+-------------------+\n",
      "|                  id|           pagerank|\n",
      "+--------------------+-------------------+\n",
      "|San Jose Diridon ...|  3.895584402131728|\n",
      "|Embarcadero at Va...| 0.7795867999185692|\n",
      "|    San Pedro Square| 1.8004572705485624|\n",
      "|Arena Green / SAP...| 0.4537065997168693|\n",
      "|San Francisco Cal...|   2.57164476974859|\n",
      "|Washington at Kea...|0.16889626936497573|\n",
      "|San Francisco Cal...| 2.8939099915923805|\n",
      "|   Steuart at Market|  1.666648284594275|\n",
      "|Broadway St at Ba...| 0.6542773822104674|\n",
      "|         Ryland Park| 0.8388444854882504|\n",
      "|   Market at Sansome| 1.3054243296675343|\n",
      "|    Davis at Jackson| 0.7741963042010769|\n",
      "|San Mateo County ...| 0.9097924987564018|\n",
      "|Redwood City Calt...|  1.534463751106983|\n",
      "|         MLK Library| 0.7773824929442177|\n",
      "|   Franklin at Maple|0.49249612010861465|\n",
      "|Mountain View Cal...|  2.957150714285198|\n",
      "|Grant Avenue at C...| 0.5752670064570555|\n",
      "| Golden Gate at Polk| 0.4621083415369985|\n",
      "|San Antonio Shopp...| 0.8947155902287497|\n",
      "+--------------------+-------------------+\n",
      "only showing top 20 rows\n",
      "\n",
      "+-------------+--------------------+--------------------+\n",
      "|          src|                 dst|              weight|\n",
      "+-------------+--------------------+--------------------+\n",
      "|2nd at Folsom|San Francisco Cal...|9.025270758122744E-4|\n",
      "|2nd at Folsom|San Francisco Cal...|9.025270758122744E-4|\n",
      "|2nd at Folsom|San Francisco Cal...|9.025270758122744E-4|\n",
      "|2nd at Folsom|San Francisco Cal...|9.025270758122744E-4|\n",
      "|2nd at Folsom|San Francisco Cal...|9.025270758122744E-4|\n",
      "|2nd at Folsom|San Francisco Cal...|9.025270758122744E-4|\n",
      "|2nd at Folsom|San Francisco Cal...|9.025270758122744E-4|\n",
      "|2nd at Folsom|San Francisco Cal...|9.025270758122744E-4|\n",
      "|2nd at Folsom|San Francisco Cal...|9.025270758122744E-4|\n",
      "|2nd at Folsom|San Francisco Cal...|9.025270758122744E-4|\n",
      "|2nd at Folsom|San Francisco Cal...|9.025270758122744E-4|\n",
      "|2nd at Folsom|San Francisco Cal...|9.025270758122744E-4|\n",
      "|2nd at Folsom|San Francisco Cal...|9.025270758122744E-4|\n",
      "|2nd at Folsom|San Francisco Cal...|9.025270758122744E-4|\n",
      "|2nd at Folsom|San Francisco Cal...|9.025270758122744E-4|\n",
      "|2nd at Folsom|San Francisco Cal...|9.025270758122744E-4|\n",
      "|2nd at Folsom|San Francisco Cal...|9.025270758122744E-4|\n",
      "|2nd at Folsom|San Francisco Cal...|9.025270758122744E-4|\n",
      "|2nd at Folsom|San Francisco Cal...|9.025270758122744E-4|\n",
      "|2nd at Folsom|San Francisco Cal...|9.025270758122744E-4|\n",
      "+-------------+--------------------+--------------------+\n",
      "only showing top 20 rows\n",
      "\n"
     ]
    }
   ],
   "source": [
    "result = g.pageRank(resetProbability=0.15, tol=0.01)\n",
    "result.vertices.show()\n",
    "result.edges.show()"
   ]
  },
  {
   "cell_type": "code",
   "execution_count": 17,
   "metadata": {},
   "outputs": [],
   "source": [
    "g.vertices.write.parquet('vertices')\n",
    "g.edges.write.parquet('edges')"
   ]
  },
  {
   "cell_type": "code",
   "execution_count": 18,
   "metadata": {},
   "outputs": [
    {
     "name": "stdout",
     "output_type": "stream",
     "text": [
      "+--------------------+-------------+\n",
      "|                  id|        label|\n",
      "+--------------------+-------------+\n",
      "|San Jose Diridon ...|1365799600128|\n",
      "|Embarcadero at Va...|1657857376256|\n",
      "|    San Pedro Square| 292057776128|\n",
      "|Arena Green / SAP...|1365799600128|\n",
      "|San Francisco Cal...|1657857376256|\n",
      "|Washington at Kea...|  17179869184|\n",
      "|San Francisco Cal...|1657857376256|\n",
      "|   Steuart at Market|1657857376256|\n",
      "|Broadway St at Ba...|1657857376256|\n",
      "|         Ryland Park| 292057776128|\n",
      "|   Market at Sansome|1657857376256|\n",
      "|    Davis at Jackson|1657857376256|\n",
      "|San Mateo County ...| 730144440320|\n",
      "|Redwood City Calt...|1151051235328|\n",
      "|         MLK Library| 292057776128|\n",
      "|   Franklin at Maple| 730144440320|\n",
      "|Mountain View Cal...| 463856467969|\n",
      "|Grant Avenue at C...|1657857376256|\n",
      "| Golden Gate at Polk|1657857376256|\n",
      "|San Antonio Shopp...| 661424963584|\n",
      "+--------------------+-------------+\n",
      "only showing top 20 rows\n",
      "\n"
     ]
    }
   ],
   "source": [
    "result = g.labelPropagation(maxIter=5)\n",
    "result.select(\"id\", \"label\").show()"
   ]
  },
  {
   "cell_type": "code",
   "execution_count": 19,
   "metadata": {},
   "outputs": [
    {
     "name": "stdout",
     "output_type": "stream",
     "text": [
      "+-----------+--------------------+-------------+\n",
      "|       from|                  e0|           to|\n",
      "+-----------+--------------------+-------------+\n",
      "|[Japantown]|[Japantown, MLK L...|[MLK Library]|\n",
      "|[Japantown]|[Japantown, MLK L...|[MLK Library]|\n",
      "|[Japantown]|[Japantown, MLK L...|[MLK Library]|\n",
      "|[Japantown]|[Japantown, MLK L...|[MLK Library]|\n",
      "|[Japantown]|[Japantown, MLK L...|[MLK Library]|\n",
      "|[Japantown]|[Japantown, MLK L...|[MLK Library]|\n",
      "|[Japantown]|[Japantown, MLK L...|[MLK Library]|\n",
      "+-----------+--------------------+-------------+\n",
      "\n"
     ]
    }
   ],
   "source": [
    "paths = g.bfs(\"id = 'Japantown'\", \"id = 'MLK Library'\")\n",
    "paths.show()"
   ]
  },
  {
   "cell_type": "code",
   "execution_count": null,
   "metadata": {},
   "outputs": [],
   "source": []
  }
 ],
 "metadata": {
  "kernelspec": {
   "display_name": "Python 3",
   "language": "python",
   "name": "python3"
  },
  "language_info": {
   "codemirror_mode": {
    "name": "ipython",
    "version": 3
   },
   "file_extension": ".py",
   "mimetype": "text/x-python",
   "name": "python",
   "nbconvert_exporter": "python",
   "pygments_lexer": "ipython3",
   "version": "3.7.6"
  }
 },
 "nbformat": 4,
 "nbformat_minor": 4
}
